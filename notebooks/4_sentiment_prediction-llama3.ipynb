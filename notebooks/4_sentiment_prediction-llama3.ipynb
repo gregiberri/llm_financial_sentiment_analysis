{
 "cells": [
  {
   "cell_type": "markdown",
   "metadata": {
    "id": "ClMFAN8vpMuw"
   },
   "source": [
    "# Import"
   ]
  },
  {
   "cell_type": "code",
   "execution_count": 1,
   "metadata": {
    "id": "KYXSZZoHpMEh",
    "tags": []
   },
   "outputs": [],
   "source": [
    "import pandas as pd\n",
    "import requests\n",
    "from langchain.text_splitter import RecursiveCharacterTextSplitter\n",
    "from tqdm import tqdm\n",
    "from langchain.docstore.document import Document\n",
    "import ollama"
   ]
  },
  {
   "cell_type": "markdown",
   "metadata": {},
   "source": [
    "## Define max context size to pass to the model at once\n",
    "Different models have different context length they can handle. For longer context length we have to split and pass the article in smaller parts to the model."
   ]
  },
  {
   "cell_type": "code",
   "execution_count": 2,
   "metadata": {},
   "outputs": [],
   "source": [
    "# context_size = 1500"
   ]
  },
  {
   "cell_type": "markdown",
   "metadata": {},
   "source": [
    "# Load data"
   ]
  },
  {
   "cell_type": "code",
   "execution_count": 2,
   "metadata": {},
   "outputs": [],
   "source": [
    "ticker_to_stock = {'GE': 'General Electric (GE)'}"
   ]
  },
  {
   "cell_type": "code",
   "execution_count": 26,
   "metadata": {},
   "outputs": [
    {
     "data": {
      "text/html": [
       "<div>\n",
       "<style scoped>\n",
       "    .dataframe tbody tr th:only-of-type {\n",
       "        vertical-align: middle;\n",
       "    }\n",
       "\n",
       "    .dataframe tbody tr th {\n",
       "        vertical-align: top;\n",
       "    }\n",
       "\n",
       "    .dataframe thead th {\n",
       "        text-align: right;\n",
       "    }\n",
       "</style>\n",
       "<table border=\"1\" class=\"dataframe\">\n",
       "  <thead>\n",
       "    <tr style=\"text-align: right;\">\n",
       "      <th></th>\n",
       "      <th>Article_title</th>\n",
       "      <th>Stock_symbol</th>\n",
       "      <th>Url</th>\n",
       "      <th>Publisher</th>\n",
       "      <th>Author</th>\n",
       "      <th>Article</th>\n",
       "      <th>Lsa_summary</th>\n",
       "      <th>Luhn_summary</th>\n",
       "      <th>Textrank_summary</th>\n",
       "      <th>Lexrank_summary</th>\n",
       "    </tr>\n",
       "    <tr>\n",
       "      <th>Date</th>\n",
       "      <th></th>\n",
       "      <th></th>\n",
       "      <th></th>\n",
       "      <th></th>\n",
       "      <th></th>\n",
       "      <th></th>\n",
       "      <th></th>\n",
       "      <th></th>\n",
       "      <th></th>\n",
       "      <th></th>\n",
       "    </tr>\n",
       "  </thead>\n",
       "  <tbody>\n",
       "    <tr>\n",
       "      <th>2023-12-16 21:00:00+00:00</th>\n",
       "      <td>Rolls-Royce can grow market share and improve ...</td>\n",
       "      <td>GE</td>\n",
       "      <td>https://www.nasdaq.com/articles/rolls-royce-ca...</td>\n",
       "      <td>NaN</td>\n",
       "      <td>NaN</td>\n",
       "      <td>By Paul Sandle, Sarah Young and Tim Hepher\\nLO...</td>\n",
       "      <td>But his challenge is to convince airlines afte...</td>\n",
       "      <td>Long-standing customer Thai Airways is finalis...</td>\n",
       "      <td>Based on underlying aircraft deliveries and ex...</td>\n",
       "      <td>Our engine will be very competitive to GE's en...</td>\n",
       "    </tr>\n",
       "    <tr>\n",
       "      <th>2023-12-16 00:00:00+00:00</th>\n",
       "      <td>General Electric's (GE) Unit Wins Wind Turbine...</td>\n",
       "      <td>GE</td>\n",
       "      <td>https://www.nasdaq.com/articles/general-electr...</td>\n",
       "      <td>NaN</td>\n",
       "      <td>NaN</td>\n",
       "      <td>General Electric Company’s GE unit, GE Vernova...</td>\n",
       "      <td>Per the deal, GE will supply approximately 693...</td>\n",
       "      <td>Image Source: Zacks Investment Research Zacks ...</td>\n",
       "      <td>General Electric Company’s GE unit, GE Vernova...</td>\n",
       "      <td>General Electric Company’s GE unit, GE Vernova...</td>\n",
       "    </tr>\n",
       "    <tr>\n",
       "      <th>2023-12-16 00:00:00+00:00</th>\n",
       "      <td>FOCUS-North American aviation companies get la...</td>\n",
       "      <td>GE</td>\n",
       "      <td>https://www.nasdaq.com/articles/focus-north-am...</td>\n",
       "      <td>NaN</td>\n",
       "      <td>NaN</td>\n",
       "      <td>By Allison Lampert\\nMONTREAL, Dec 19 (Reuters)...</td>\n",
       "      <td>Business jet maker Bombardier BBDb.TO, which h...</td>\n",
       "      <td>Business jet maker Bombardier BBDb.TO, which h...</td>\n",
       "      <td>As clients like engine maker General Electric ...</td>\n",
       "      <td>As clients like engine maker General Electric ...</td>\n",
       "    </tr>\n",
       "    <tr>\n",
       "      <th>2023-12-16 00:00:00+00:00</th>\n",
       "      <td>Airbus on course for record jetliner orders in...</td>\n",
       "      <td>GE</td>\n",
       "      <td>https://www.nasdaq.com/articles/airbus-on-cour...</td>\n",
       "      <td>NaN</td>\n",
       "      <td>NaN</td>\n",
       "      <td>By Tim Hepher\\nPARIS, Dec 19 (Reuters) - Airbu...</td>\n",
       "      <td>Airlines are scrambling to order new planes to...</td>\n",
       "      <td>Despite the positive end-year note, Airbus is ...</td>\n",
       "      <td>Despite the positive end-year note, Airbus is ...</td>\n",
       "      <td>With just over 10 days to go, the total has re...</td>\n",
       "    </tr>\n",
       "    <tr>\n",
       "      <th>2023-12-15 00:00:00+00:00</th>\n",
       "      <td>Validea Detailed Fundamental Analysis - GE</td>\n",
       "      <td>GE</td>\n",
       "      <td>https://www.nasdaq.com/articles/validea-detail...</td>\n",
       "      <td>NaN</td>\n",
       "      <td>NaN</td>\n",
       "      <td>Below is Validea's guru fundamental report for...</td>\n",
       "      <td>Below is Validea's guru fundamental report for...</td>\n",
       "      <td>Detailed Analysis of GENERAL ELECTRIC CO GE Gu...</td>\n",
       "      <td>Of the 22 guru strategies we follow, GE rates ...</td>\n",
       "      <td>Of the 22 guru strategies we follow, GE rates ...</td>\n",
       "    </tr>\n",
       "  </tbody>\n",
       "</table>\n",
       "</div>"
      ],
      "text/plain": [
       "                                                               Article_title  \\\n",
       "Date                                                                           \n",
       "2023-12-16 21:00:00+00:00  Rolls-Royce can grow market share and improve ...   \n",
       "2023-12-16 00:00:00+00:00  General Electric's (GE) Unit Wins Wind Turbine...   \n",
       "2023-12-16 00:00:00+00:00  FOCUS-North American aviation companies get la...   \n",
       "2023-12-16 00:00:00+00:00  Airbus on course for record jetliner orders in...   \n",
       "2023-12-15 00:00:00+00:00         Validea Detailed Fundamental Analysis - GE   \n",
       "\n",
       "                          Stock_symbol  \\\n",
       "Date                                     \n",
       "2023-12-16 21:00:00+00:00           GE   \n",
       "2023-12-16 00:00:00+00:00           GE   \n",
       "2023-12-16 00:00:00+00:00           GE   \n",
       "2023-12-16 00:00:00+00:00           GE   \n",
       "2023-12-15 00:00:00+00:00           GE   \n",
       "\n",
       "                                                                         Url  \\\n",
       "Date                                                                           \n",
       "2023-12-16 21:00:00+00:00  https://www.nasdaq.com/articles/rolls-royce-ca...   \n",
       "2023-12-16 00:00:00+00:00  https://www.nasdaq.com/articles/general-electr...   \n",
       "2023-12-16 00:00:00+00:00  https://www.nasdaq.com/articles/focus-north-am...   \n",
       "2023-12-16 00:00:00+00:00  https://www.nasdaq.com/articles/airbus-on-cour...   \n",
       "2023-12-15 00:00:00+00:00  https://www.nasdaq.com/articles/validea-detail...   \n",
       "\n",
       "                           Publisher  Author  \\\n",
       "Date                                           \n",
       "2023-12-16 21:00:00+00:00        NaN     NaN   \n",
       "2023-12-16 00:00:00+00:00        NaN     NaN   \n",
       "2023-12-16 00:00:00+00:00        NaN     NaN   \n",
       "2023-12-16 00:00:00+00:00        NaN     NaN   \n",
       "2023-12-15 00:00:00+00:00        NaN     NaN   \n",
       "\n",
       "                                                                     Article  \\\n",
       "Date                                                                           \n",
       "2023-12-16 21:00:00+00:00  By Paul Sandle, Sarah Young and Tim Hepher\\nLO...   \n",
       "2023-12-16 00:00:00+00:00  General Electric Company’s GE unit, GE Vernova...   \n",
       "2023-12-16 00:00:00+00:00  By Allison Lampert\\nMONTREAL, Dec 19 (Reuters)...   \n",
       "2023-12-16 00:00:00+00:00  By Tim Hepher\\nPARIS, Dec 19 (Reuters) - Airbu...   \n",
       "2023-12-15 00:00:00+00:00  Below is Validea's guru fundamental report for...   \n",
       "\n",
       "                                                                 Lsa_summary  \\\n",
       "Date                                                                           \n",
       "2023-12-16 21:00:00+00:00  But his challenge is to convince airlines afte...   \n",
       "2023-12-16 00:00:00+00:00  Per the deal, GE will supply approximately 693...   \n",
       "2023-12-16 00:00:00+00:00  Business jet maker Bombardier BBDb.TO, which h...   \n",
       "2023-12-16 00:00:00+00:00  Airlines are scrambling to order new planes to...   \n",
       "2023-12-15 00:00:00+00:00  Below is Validea's guru fundamental report for...   \n",
       "\n",
       "                                                                Luhn_summary  \\\n",
       "Date                                                                           \n",
       "2023-12-16 21:00:00+00:00  Long-standing customer Thai Airways is finalis...   \n",
       "2023-12-16 00:00:00+00:00  Image Source: Zacks Investment Research Zacks ...   \n",
       "2023-12-16 00:00:00+00:00  Business jet maker Bombardier BBDb.TO, which h...   \n",
       "2023-12-16 00:00:00+00:00  Despite the positive end-year note, Airbus is ...   \n",
       "2023-12-15 00:00:00+00:00  Detailed Analysis of GENERAL ELECTRIC CO GE Gu...   \n",
       "\n",
       "                                                            Textrank_summary  \\\n",
       "Date                                                                           \n",
       "2023-12-16 21:00:00+00:00  Based on underlying aircraft deliveries and ex...   \n",
       "2023-12-16 00:00:00+00:00  General Electric Company’s GE unit, GE Vernova...   \n",
       "2023-12-16 00:00:00+00:00  As clients like engine maker General Electric ...   \n",
       "2023-12-16 00:00:00+00:00  Despite the positive end-year note, Airbus is ...   \n",
       "2023-12-15 00:00:00+00:00  Of the 22 guru strategies we follow, GE rates ...   \n",
       "\n",
       "                                                             Lexrank_summary  \n",
       "Date                                                                          \n",
       "2023-12-16 21:00:00+00:00  Our engine will be very competitive to GE's en...  \n",
       "2023-12-16 00:00:00+00:00  General Electric Company’s GE unit, GE Vernova...  \n",
       "2023-12-16 00:00:00+00:00  As clients like engine maker General Electric ...  \n",
       "2023-12-16 00:00:00+00:00  With just over 10 days to go, the total has re...  \n",
       "2023-12-15 00:00:00+00:00  Of the 22 guru strategies we follow, GE rates ...  "
      ]
     },
     "execution_count": 26,
     "metadata": {},
     "output_type": "execute_result"
    }
   ],
   "source": [
    "ext_df = pd.read_csv('../dat_ge.csv', index_col=0)\n",
    "ext_df.head()"
   ]
  },
  {
   "cell_type": "markdown",
   "metadata": {},
   "source": [
    "# Check article example"
   ]
  },
  {
   "cell_type": "markdown",
   "metadata": {},
   "source": [
    "## Define quasi token calculation function"
   ]
  },
  {
   "cell_type": "code",
   "execution_count": 4,
   "metadata": {},
   "outputs": [],
   "source": [
    "get_token = lambda x: len(x.replace('.!?:-',' ').split(' '))/0.75"
   ]
  },
  {
   "cell_type": "markdown",
   "metadata": {},
   "source": [
    "## Show example article"
   ]
  },
  {
   "cell_type": "code",
   "execution_count": 5,
   "metadata": {
    "scrolled": true
   },
   "outputs": [
    {
     "name": "stdout",
     "output_type": "stream",
     "text": [
      "1 GE \n",
      "\n",
      " General Electric Company’s GE unit, GE Vernova (combined operations of GE Digital, Renewable Energy and GE Power), has recently inked a framework deal with Forestalia for the installation of onshore wind turbines across several upcoming project sites in Spain.\n",
      "\n",
      "Per the deal, GE will supply approximately 693 megawatts (MW) of wind turbines in 16 different project sites across the country’s Aragon region. The company will install a total of 110 units of 6.1-158 wind turbines in the Zaragoza region in six phases. The first phase, which is already in progress, will see 33 units of wind turbines being constructed at five wind farms.\n",
      "\n",
      "Out of the 110 GE turbines, 33 turbines will have a hub height of 101 meters and the rest will have a hub height of 120.9 meters. The delivery of the turbine units will be completed by 2024 end.\n",
      "\n",
      "This deal supports Spain’s effort to shift toward renewable sources of energy and will attract similar projects in 2024.\n",
      "\n",
      "The collaboration between General Electric and Forestalia is built on the prior deal signed in 2016. It also bolsters GE’s wind collaboration in the region.\n",
      "\n",
      "Recently, General Electric has received a series of deals, which are likely to drive its growth. In November 2023, General Electric secured a deal from O2 Power Private Limited to deliver, install and commission 36 units of workhorse 2.7-132 onshore wind turbines. The turbine units will be installed at a 97 MW wind power project in Maharashtra, India.\n",
      "\n",
      "In August, GE secured two orders from Royal Golden Eagle Group’s subsidiary East Asia Power (Yangjiang) Co., Ltd. and Beijing Energy International Holding Co., Ltd. to deliver four units of 6F.03 gas turbines.\n",
      "Price Performance\n",
      "In the past year, the GE stock has gained 54% against the industry’s 1.2% decrease.\n",
      "\n",
      "Image Source: Zacks Investment Research\n",
      "Zacks Rank & Stocks to Consider\n",
      "General Electric currently carries a Zacks Rank #3 (Hold). Some better-ranked companies have been discussed below.\n",
      "\n",
      "Federal Signal Corporation FSS presently carries a Zacks Rank #2 (Buy). You can see the complete list of today’s Zacks #1 Rank (Strong Buy) stocks here.\n",
      "\n",
      "FSS delivered a trailing four-quarter average earnings surprise of 8.1%. In the past 60 days, the Zacks Consensus Estimate for Federal Signal’s 2023 earnings has increased 3.3%. The stock has gained 66.2% in the past year.\n",
      "\n",
      "ITT Inc. ITT presently carries a Zacks Rank #2. It has a trailing four-quarter average earnings surprise of 8%.\n",
      "\n",
      "The consensus estimate for ITT’s 2023 earnings has increased 2% in the past 60 days. Shares of ITT have jumped 46.9% in the past year.\n",
      "\n",
      "A. O. Smith Corporation AOS currently carries a Zacks Rank of 2. The company delivered a trailing four-quarter average earnings surprise of 14%.\n",
      "\n",
      "In the past 60 days, the consensus estimate for A. O. Smith’s 2023 earnings has improved 4.4%. The stock has gained 41% in the past year.\n",
      "Zacks Reveals ChatGPT \"Sleeper\" Stock\n",
      "One little-known company is at the heart of an especially brilliant Artificial Intelligence sector. By 2030, the AI industry is predicted to have an internet and iPhone-scale economic impact of $15.7 Trillion.\n",
      "As a service to readers, Zacks is providing a bonus report that names and explains this explosive growth stock and 4 other \"must buys.\" Plus more.\n",
      "Download Free ChatGPT Stock Report Right Now >>\n",
      "Want the latest recommendations from Zacks Investment Research? Today, you can download 7 Best Stocks for the Next 30 Days. Click to get this free report\n",
      "General Electric Company (GE) : Free Stock Analysis Report\n",
      "A. O. Smith Corporation (AOS) : Free Stock Analysis Report\n",
      "ITT Inc. (ITT) : Free Stock Analysis Report\n",
      "Federal Signal Corporation (FSS) : Free Stock Analysis Report\n",
      "To read this article on Zacks.com click here.\n",
      "Zacks Investment Research\n",
      "The views and opinions expressed herein are the views and opinions of the author and do not necessarily reflect those of Nasdaq, Inc. \n",
      "\n",
      " 818.6666666666666\n"
     ]
    }
   ],
   "source": [
    "i = 1\n",
    "\n",
    "test_ticker = ext_df.iloc[i].Stock_symbol\n",
    "test_article = ext_df.iloc[i].Article\n",
    "print(i, test_ticker, '\\n\\n', test_article, '\\n\\n', get_token(test_article))"
   ]
  },
  {
   "cell_type": "markdown",
   "metadata": {},
   "source": [
    "# Define sentiment prediction functions"
   ]
  },
  {
   "cell_type": "markdown",
   "metadata": {},
   "source": [
    "## Stuff\n",
    "We use stuff if the whole article + prompt instruction fits into the context size of the model.\n",
    "\n",
    "With stuff we pass the whole prompt (with instruction and article) to the model to predict the sentiment in a single stage."
   ]
  },
  {
   "cell_type": "markdown",
   "metadata": {},
   "source": [
    "### Define prompt template\n",
    "It includes the instructions and the article and stock name will be inserted for each article."
   ]
  },
  {
   "cell_type": "code",
   "execution_count": 6,
   "metadata": {},
   "outputs": [],
   "source": [
    "llama3_prompt_template = \"\"\"### System: \n",
    "Forget all your previous instructions. You are a financial expert with stock market analysis experience. A news article will be passed and you will give only a single score between 1-5 as an answer. Based on a specific stock, score what sentiment the article implies on a certain stock: range from 1 to 5, where 1 is negative, 2 is somewhat negative, 3 is neutral, 4 is somewhat positive, 5 is positive.\n",
    "Examples:  \n",
    "  Stock of interest -- Apple: `AAPL: Apple (AAPL) announced iPhone 15`: Answer: `4`\n",
    "  Stock of interest -- XOM: `Exxon (XOM) price decreased more than 3%: Answer: `1`\n",
    "  Stock of interest -- MSFT: `Microsoft (MSTF) price has no change`: Answer: `3`\n",
    "  Stock of interest -- Visa: `Visa got better earnings than expected`: Answer: `5` \n",
    "  Stock of interest -- BRK: `BRK got slightly worse earnings than expected`: Answer: `2` \n",
    "\n",
    "### Article:\n",
    "```\n",
    "{article}\n",
    "```\n",
    "## User:\n",
    "What is the implied sentiment of the article to {stock} stock? Answer only a single number from 1 to 5.\n",
    "\n",
    "### Assistant:\n",
    "The implied sentiment for {stock} is \"\"\""
   ]
  },
  {
   "cell_type": "markdown",
   "metadata": {},
   "source": [
    "### Define functions for stuff sentiment\n",
    "- clean output cleans every additional symbols from the prediction to return only the sentiment number\n",
    "- stuff sentiment makes the sentiment prediction"
   ]
  },
  {
   "cell_type": "code",
   "execution_count": 10,
   "metadata": {},
   "outputs": [],
   "source": [
    "def ollama_api(prompt, model='llama3_8b-Q5_km', temperature=0, max_new_tokens=1):\n",
    "    response = ollama.chat(model=model, messages=[\n",
    "                  {\n",
    "                    'role': 'user',\n",
    "                    'content': prompt,\n",
    "                    'options': {\n",
    "                        \"seed\": 123,\n",
    "                        \"temperature\": temperature,\n",
    "                        \"num_predict\": max_new_tokens\n",
    "                  }\n",
    "                  }\n",
    "                ])['message']['content']\n",
    "    return response"
   ]
  },
  {
   "cell_type": "code",
   "execution_count": 18,
   "metadata": {},
   "outputs": [],
   "source": [
    "def clean_output(output):\n",
    "    output = output[:2]\n",
    "    output = output.strip(':`.!?\\n\\\\#\"')\n",
    "    return output"
   ]
  },
  {
   "cell_type": "code",
   "execution_count": 19,
   "metadata": {},
   "outputs": [],
   "source": [
    "def stuff_sentiment(article, stock):\n",
    "    headers = {\"Content-Type\": \"application/json\"}\n",
    "\n",
    "    template = llama3_prompt_template\n",
    "    prompt = template.format(article=article, stock=stock)\n",
    "    response = ollama_api(prompt)\n",
    "    response =  clean_output(response)\n",
    "    return response"
   ]
  },
  {
   "cell_type": "markdown",
   "metadata": {},
   "source": [
    "### Test"
   ]
  },
  {
   "cell_type": "code",
   "execution_count": 20,
   "metadata": {
    "scrolled": true
   },
   "outputs": [
    {
     "data": {
      "text/plain": [
       "'4'"
      ]
     },
     "execution_count": 20,
     "metadata": {},
     "output_type": "execute_result"
    }
   ],
   "source": [
    "i=1\n",
    "stuff_sentiment(ext_df.iloc[i].Article, ticker_to_stock[ext_df.iloc[i].Stock_symbol])"
   ]
  },
  {
   "cell_type": "code",
   "execution_count": 23,
   "metadata": {},
   "outputs": [
    {
     "data": {
      "text/html": [
       "<div>\n",
       "<style scoped>\n",
       "    .dataframe tbody tr th:only-of-type {\n",
       "        vertical-align: middle;\n",
       "    }\n",
       "\n",
       "    .dataframe tbody tr th {\n",
       "        vertical-align: top;\n",
       "    }\n",
       "\n",
       "    .dataframe thead th {\n",
       "        text-align: right;\n",
       "    }\n",
       "</style>\n",
       "<table border=\"1\" class=\"dataframe\">\n",
       "  <thead>\n",
       "    <tr style=\"text-align: right;\">\n",
       "      <th></th>\n",
       "      <th>Date</th>\n",
       "      <th>Article_title</th>\n",
       "      <th>Stock_symbol</th>\n",
       "      <th>Url</th>\n",
       "      <th>Publisher</th>\n",
       "      <th>Author</th>\n",
       "      <th>Article</th>\n",
       "      <th>Lsa_summary</th>\n",
       "      <th>Luhn_summary</th>\n",
       "      <th>Textrank_summary</th>\n",
       "      <th>Lexrank_summary</th>\n",
       "    </tr>\n",
       "    <tr>\n",
       "      <th>Unnamed: 0</th>\n",
       "      <th></th>\n",
       "      <th></th>\n",
       "      <th></th>\n",
       "      <th></th>\n",
       "      <th></th>\n",
       "      <th></th>\n",
       "      <th></th>\n",
       "      <th></th>\n",
       "      <th></th>\n",
       "      <th></th>\n",
       "      <th></th>\n",
       "    </tr>\n",
       "  </thead>\n",
       "  <tbody>\n",
       "    <tr>\n",
       "      <th>1102041.0</th>\n",
       "      <td>2022-09-20 00:00:00 UTC</td>\n",
       "      <td>General Electric (GE) Sees Supply Chain Impact...</td>\n",
       "      <td>GE</td>\n",
       "      <td>https://www.nasdaq.com/articles/general-electr...</td>\n",
       "      <td>NaN</td>\n",
       "      <td>NaN</td>\n",
       "      <td>General Electric GE continues to grapple with ...</td>\n",
       "      <td>General Electric GE continues to grapple with ...</td>\n",
       "      <td>General Electric Company Price General Electri...</td>\n",
       "      <td>General Electric Company Price General Electri...</td>\n",
       "      <td>Special Report: The Top 5 IPOs for Your Portfo...</td>\n",
       "    </tr>\n",
       "    <tr>\n",
       "      <th>1101335.0</th>\n",
       "      <td>2023-09-21 00:00:00 UTC</td>\n",
       "      <td>Zacks Industry Outlook Highlights General Elec...</td>\n",
       "      <td>GE</td>\n",
       "      <td>https://www.nasdaq.com/articles/zacks-industry...</td>\n",
       "      <td>NaN</td>\n",
       "      <td>NaN</td>\n",
       "      <td>For Immediate Release\\nChicago, IL – September...</td>\n",
       "      <td>GE, sporting a Zacks Rank #1 (Strong Buy), is ...</td>\n",
       "      <td>Over the past five years, the industry has tra...</td>\n",
       "      <td>Zacks Industry Rank Suggests Bright Prospects ...</td>\n",
       "      <td>Zacks Investment Research does not engage in i...</td>\n",
       "    </tr>\n",
       "  </tbody>\n",
       "</table>\n",
       "</div>"
      ],
      "text/plain": [
       "                               Date  \\\n",
       "Unnamed: 0                            \n",
       "1102041.0   2022-09-20 00:00:00 UTC   \n",
       "1101335.0   2023-09-21 00:00:00 UTC   \n",
       "\n",
       "                                                Article_title Stock_symbol  \\\n",
       "Unnamed: 0                                                                   \n",
       "1102041.0   General Electric (GE) Sees Supply Chain Impact...           GE   \n",
       "1101335.0   Zacks Industry Outlook Highlights General Elec...           GE   \n",
       "\n",
       "                                                          Url  Publisher  \\\n",
       "Unnamed: 0                                                                 \n",
       "1102041.0   https://www.nasdaq.com/articles/general-electr...        NaN   \n",
       "1101335.0   https://www.nasdaq.com/articles/zacks-industry...        NaN   \n",
       "\n",
       "            Author                                            Article  \\\n",
       "Unnamed: 0                                                              \n",
       "1102041.0      NaN  General Electric GE continues to grapple with ...   \n",
       "1101335.0      NaN  For Immediate Release\\nChicago, IL – September...   \n",
       "\n",
       "                                                  Lsa_summary  \\\n",
       "Unnamed: 0                                                      \n",
       "1102041.0   General Electric GE continues to grapple with ...   \n",
       "1101335.0   GE, sporting a Zacks Rank #1 (Strong Buy), is ...   \n",
       "\n",
       "                                                 Luhn_summary  \\\n",
       "Unnamed: 0                                                      \n",
       "1102041.0   General Electric Company Price General Electri...   \n",
       "1101335.0   Over the past five years, the industry has tra...   \n",
       "\n",
       "                                             Textrank_summary  \\\n",
       "Unnamed: 0                                                      \n",
       "1102041.0   General Electric Company Price General Electri...   \n",
       "1101335.0   Zacks Industry Rank Suggests Bright Prospects ...   \n",
       "\n",
       "                                              Lexrank_summary  \n",
       "Unnamed: 0                                                     \n",
       "1102041.0   Special Report: The Top 5 IPOs for Your Portfo...  \n",
       "1101335.0   Zacks Investment Research does not engage in i...  "
      ]
     },
     "execution_count": 23,
     "metadata": {},
     "output_type": "execute_result"
    }
   ],
   "source": [
    "sample = ext_df.sample(n=2)\n",
    "sample"
   ]
  },
  {
   "cell_type": "code",
   "execution_count": 24,
   "metadata": {},
   "outputs": [
    {
     "data": {
      "text/plain": [
       "['2', '4']"
      ]
     },
     "execution_count": 24,
     "metadata": {},
     "output_type": "execute_result"
    }
   ],
   "source": [
    "results = []\n",
    "for i in sample.index:\n",
    "    response = stuff_sentiment(ext_df.loc[i].Article, ticker_to_stock[ext_df.loc[i].Stock_symbol])\n",
    "    results.append(response)\n",
    "\n",
    "results\n"
   ]
  },
  {
   "cell_type": "code",
   "execution_count": 25,
   "metadata": {},
   "outputs": [
    {
     "data": {
      "text/html": [
       "<div>\n",
       "<style scoped>\n",
       "    .dataframe tbody tr th:only-of-type {\n",
       "        vertical-align: middle;\n",
       "    }\n",
       "\n",
       "    .dataframe tbody tr th {\n",
       "        vertical-align: top;\n",
       "    }\n",
       "\n",
       "    .dataframe thead th {\n",
       "        text-align: right;\n",
       "    }\n",
       "</style>\n",
       "<table border=\"1\" class=\"dataframe\">\n",
       "  <thead>\n",
       "    <tr style=\"text-align: right;\">\n",
       "      <th></th>\n",
       "      <th>0</th>\n",
       "    </tr>\n",
       "    <tr>\n",
       "      <th>Unnamed: 0</th>\n",
       "      <th></th>\n",
       "    </tr>\n",
       "  </thead>\n",
       "  <tbody>\n",
       "    <tr>\n",
       "      <th>1102041.0</th>\n",
       "      <td>2</td>\n",
       "    </tr>\n",
       "    <tr>\n",
       "      <th>1101335.0</th>\n",
       "      <td>4</td>\n",
       "    </tr>\n",
       "  </tbody>\n",
       "</table>\n",
       "</div>"
      ],
      "text/plain": [
       "            0\n",
       "Unnamed: 0   \n",
       "1102041.0   2\n",
       "1101335.0   4"
      ]
     },
     "execution_count": 25,
     "metadata": {},
     "output_type": "execute_result"
    }
   ],
   "source": [
    "result_df = pd.DataFrame(results, index=sample.index)\n",
    "result_df"
   ]
  },
  {
   "cell_type": "markdown",
   "metadata": {},
   "source": [
    "## Map Reduce\n",
    "If the article exceeds this context size then use map-reduce: \n",
    "- split the atricle into smaller parts\n",
    "- make shorter summaries with sentiment in focus\n",
    "- concat the sumamries and make final sentiment prediction"
   ]
  },
  {
   "cell_type": "markdown",
   "metadata": {},
   "source": [
    "### Define map prompt template\n",
    "This prompt is used to summarize article parts to shorter versions with focus on extracting the sentiment info. These summaries will be used for filan sentiment prediction."
   ]
  },
  {
   "cell_type": "code",
   "execution_count": 23,
   "metadata": {},
   "outputs": [],
   "source": [
    "llama3_map_template = \"\"\"### System: \n",
    "Forget all your previous instructions. You are a financial expert with stock market analysis experience. A news article part will be passed and you will give a summary of it emphasizing the sentiment of the text to the stock.\n",
    "Examples:\n",
    " `Apple got earnings of 1.5 billion $ exceeding expectations by 0.1 billion dollars than expected`: Answer: `Positive sentiment as Apple earnings were better than expeted.` \n",
    "\n",
    "### Article part:\n",
    "```\n",
    "{article}\n",
    "```\n",
    "\n",
    "### User:\n",
    "Summarize the article of {stock} stock. Answer very shortly. Do not repeat the instructions.\n",
    "\n",
    "### Assistant:\n",
    "The summary of the article in a few words is:\n",
    "\n",
    "\"\"\""
   ]
  },
  {
   "cell_type": "markdown",
   "metadata": {},
   "source": [
    "### Define functions for stuff sentiment\n",
    "- clean output mapped article clean removes the prompt instruction in case the model returns it\n",
    "- map-reduce sentiment makes the sentiment prediction"
   ]
  },
  {
   "cell_type": "code",
   "execution_count": 24,
   "metadata": {},
   "outputs": [],
   "source": [
    "def clean_mapped_article(mapped_article):\n",
    "    return mapped_article[:mapped_article.find('###')]"
   ]
  },
  {
   "cell_type": "code",
   "execution_count": 116,
   "metadata": {},
   "outputs": [],
   "source": [
    "text_splitter = RecursiveCharacterTextSplitter(\n",
    "    # Set a really small chunk size, just to show.\n",
    "    chunk_size=1500,\n",
    "    chunk_overlap=100,\n",
    "    length_function=get_token ,\n",
    "    is_separator_regex=False,\n",
    ")\n",
    "\n",
    "def map_reduce_sentiment(article, stock):\n",
    "    headers = {\"Content-Type\": \"application/json\"}\n",
    "\n",
    "    # split the article to chunks\n",
    "    doc =  [Document(page_content=article, metadata={\"source\": \"local\"})] ## ext_df.iloc[18].Article\n",
    "    sources = text_splitter.split_documents(doc)\n",
    "\n",
    "    # iterate through the article parts and map them \n",
    "    mapped_article_parts_list = []\n",
    "    for article_part_doc in sources:\n",
    "        article_part = article_part_doc.page_content\n",
    "        prompt = llama3_map_template.format(article=article_part, stock=stock)\n",
    "    \n",
    "        # json_data = {\"prompt\": prompt, \"max_tokens\": 100, \"temperature\": 0.01,}\n",
    "        # mapped_article = requests.post(oobabooga_endpoint, headers=headers, json=json_data).json()['results'][0]['text'] \n",
    "        # mapped_article = clean_mapped_article(mapped_article).replace('\\n', '')\n",
    "        # mapped_article_parts_list.append(mapped_article)\n",
    "\n",
    "        # Access Llama3-8B through ollama\n",
    "        mapped_article = ollama.chat(model='llama3', messages=[\n",
    "              {\n",
    "                'role': 'user',\n",
    "                'content': prompt,\n",
    "                'options': {\n",
    "                    \"seed\": 123,\n",
    "                    \"temperature\": 0,\n",
    "                    \"num_predict\": 100\n",
    "              }\n",
    "              }\n",
    "            ])['message']['content']\n",
    "        mapped_article = clean_mapped_article(mapped_article).replace('\\n', '')\n",
    "        print('Summarized by llama3: ', mapped_article)\n",
    "        mapped_article_parts_list.append(mapped_article)\n",
    "        \n",
    "    # concat the mapped article parts\n",
    "    joined_article_parts = '\\n'.join(mapped_article_parts_list)\n",
    "    prompt = llama3_prompt_template.format(article=joined_article_parts, stock=stock)\n",
    "\n",
    "    # json_data = {\"prompt\": prompt, \"max_tokens\": 1, \"temperature\": 0.01}\n",
    "    # response = requests.post(oobabooga_endpoint, headers=headers, json=json_data).json()['results'][0]['text']\n",
    "    response = ollama.chat(model='llama3', messages=[\n",
    "              {\n",
    "                'role': 'user',\n",
    "                'content': prompt,\n",
    "                'options': {\n",
    "                    \"seed\": 123,\n",
    "                    \"temperature\": 0,\n",
    "                    \"num_predict\": 1\n",
    "              }\n",
    "              }\n",
    "            ])['message']['content']\n",
    "    response =  clean_output(response)\n",
    "    print('response after clean_output: ', response)\n",
    "    return response"
   ]
  },
  {
   "cell_type": "code",
   "execution_count": 1,
   "metadata": {},
   "outputs": [
    {
     "ename": "NameError",
     "evalue": "name 'map_reduce_sentiment' is not defined",
     "output_type": "error",
     "traceback": [
      "\u001b[0;31m---------------------------------------------------------------------------\u001b[0m",
      "\u001b[0;31mNameError\u001b[0m                                 Traceback (most recent call last)",
      "Cell \u001b[0;32mIn[1], line 1\u001b[0m\n\u001b[0;32m----> 1\u001b[0m result_value \u001b[38;5;241m=\u001b[39m \u001b[43mmap_reduce_sentiment\u001b[49m(ext_df\u001b[38;5;241m.\u001b[39mloc[\u001b[38;5;241m1104431\u001b[39m]\u001b[38;5;241m.\u001b[39mArticle, ticker_to_stock[ext_df\u001b[38;5;241m.\u001b[39mloc[\u001b[38;5;241m1104431\u001b[39m]\u001b[38;5;241m.\u001b[39mStock_symbol])\n",
      "\u001b[0;31mNameError\u001b[0m: name 'map_reduce_sentiment' is not defined"
     ]
    }
   ],
   "source": [
    "result_value = map_reduce_sentiment(ext_df.loc[1104431].Article, ticker_to_stock[ext_df.loc[1104431].Stock_symbol])"
   ]
  },
  {
   "cell_type": "markdown",
   "metadata": {},
   "source": [
    "# Predict sentiment of articles\n",
    "\n"
   ]
  },
  {
   "cell_type": "markdown",
   "metadata": {},
   "source": [
    "### Test on list of articles"
   ]
  },
  {
   "cell_type": "code",
   "execution_count": 118,
   "metadata": {},
   "outputs": [
    {
     "name": "stdout",
     "output_type": "stream",
     "text": [
      "\n",
      " ID:  1107890.0\n",
      "Lsa_summary:  Quarterly results excluded charges pertaining to closure of the GE Healthcare acquisition, planned site shutdowns and revisions to restructuring charges recorded in the second quarter reflecting updated information. A rise in interchange fees and other revenues were, however, partially offset by lower service charges and other customer-related fees as well as net other-than-temporary impairment recognized in earnings. Net charge-off rate rose 16 bps year over year to 1.96%.\n",
      "Summarized by llama3:  No summary of GE stock was provided in the article. The article only discussed Capital One Financial Corporation (COF)\n",
      "response after clean_output:  3\n",
      "3\n",
      "\n",
      " ID:  1101955.0\n",
      "Lsa_summary:  Xu Yanjun, the first Chinese spy extradited to the United States for trial, was convicted in Nov. 2021 by a federal jury on counts of conspiring and attempting to commit economic espionage and trade secret theft. \"Today's sentence demonstrates the seriousness of those crimes and the Justice Department's determination to investigate and prosecute efforts by the Chinese government, or any foreign power, to threaten our economic and national security,\" U.S. Attorney General Merrick Garland said in a statement. U.S. officials say the Chinese government poses the biggest long-term threat to U.S. economic and national security, and is carrying out unprecedented efforts to steal critical technology from U.S. businesses and researchers.\n",
      "Summarized by llama3:  Negative sentiment for GE (General Electric Co) stock due to trade secret theft allegations\n",
      "response after clean_output:  1\n",
      "1\n",
      "\n",
      " ID:  1105591.0\n",
      "Lsa_summary:  Shareholders who purchased GE prior to the ex-dividend date are eligible for the cash dividend payment. Zacks Investment Research reports GE's forecasted earnings growth in 2018 as -5.87%, compared to an industry average of 15.2%. For more information on the declaration, record and payment dates, visit the GE Dividend History page.\n",
      "Summarized by llama3:  Negative sentiment as GE dividend payment decreases by 50%, and earnings growth forecasted at -5.87% vs industry average of 15.2%\n",
      "response after clean_output:  1\n",
      "1\n",
      "\n",
      " ID:  1105922.0\n",
      "Lsa_summary:  Some large cap names have sold off in 2017, including a couple that have hit multi-year lows. General ElectricGE has plunged to 5-year lows. BiogenBIIB was weak through May and has since rallied.\n",
      "Summarized by llama3:  GE's stock has plunged to 5-year lows, with a forward P/E of 17.2, but earnings forecast raises questions about value\n",
      "Summarized by llama3:  There is no article about General Electric (GE) stock in the provided text. The article appears to be a general report with links to free analysis reports on various stocks, including Biogen Inc., Exxon Mobil Corporation, Chipotle Mexican Grill, and Macy's Inc\n",
      "response after clean_output:  2\n",
      "2\n",
      "\n",
      " ID:  1102112.0\n",
      "Lsa_summary:  Viatris Inc. (VTRS) is unchanged at $10.09, with 4,530,596 shares traded. VTRS's current last sale is 87.74% of the target price of $11.5. SABR's current last sale is 73% of the target price of $10.\n",
      "Summarized by llama3:  No mention of GE (General Electric) stock in this article\n",
      "response after clean_output:  3\n",
      "3\n"
     ]
    }
   ],
   "source": [
    "sample = ext_df.sample(n=5)\n",
    "\n",
    "for i in sample.index:\n",
    "    print('\\n ID: ', i)\n",
    "    print('Lsa_summary: ', sample.loc[i, 'Lsa_summary'])\n",
    "    print(map_reduce_sentiment(sample.loc[i, 'Article'], sample.loc[i, 'Stock_symbol']))"
   ]
  }
 ],
 "metadata": {
  "colab": {
   "provenance": []
  },
  "kernelspec": {
   "display_name": "llm_sentiment",
   "language": "python",
   "name": "llm_sentiment"
  },
  "language_info": {
   "codemirror_mode": {
    "name": "ipython",
    "version": 3
   },
   "file_extension": ".py",
   "mimetype": "text/x-python",
   "name": "python",
   "nbconvert_exporter": "python",
   "pygments_lexer": "ipython3",
   "version": "3.11.7"
  }
 },
 "nbformat": 4,
 "nbformat_minor": 4
}
