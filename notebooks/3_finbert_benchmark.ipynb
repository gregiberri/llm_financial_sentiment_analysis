{
 "cells": [
  {
   "cell_type": "markdown",
   "id": "acf4f89f-a0a9-41e2-91db-e5b299eaa235",
   "metadata": {},
   "source": [
    "# Download finBERT repo"
   ]
  },
  {
   "cell_type": "code",
   "execution_count": 1,
   "id": "bee52ba5-8c36-4120-80d9-72916eb867f3",
   "metadata": {},
   "outputs": [
    {
     "name": "stdout",
     "output_type": "stream",
     "text": [
      "Cloning into '/finBERT'...\n",
      "remote: Enumerating objects: 168, done.\u001b[K\n",
      "remote: Counting objects: 100% (19/19), done.\u001b[K\n",
      "remote: Compressing objects: 100% (15/15), done.\u001b[K\n",
      "remote: Total 168 (delta 6), reused 10 (delta 4), pack-reused 149\u001b[K\n",
      "Receiving objects: 100% (168/168), 73.57 KiB | 353.00 KiB/s, done.\n",
      "Resolving deltas: 100% (67/67), done.\n",
      "SHELL=/bin/bash\n",
      "NVIDIA_VISIBLE_DEVICES=all\n",
      "CONDA_EXE=/root/miniforge3/bin/conda\n",
      "_CE_M=\n",
      "HOSTNAME=72fc73cfc941\n",
      "PYTHONHASHSEED=0\n",
      "XML_CATALOG_FILES=file:///root/miniforge3/envs/llm_sentiment/etc/xml/catalog file:///etc/xml/catalog\n",
      "PWD=/code/notebooks\n",
      "GSETTINGS_SCHEMA_DIR=/root/miniforge3/envs/llm_sentiment/share/glib-2.0/schemas\n",
      "CONDA_ROOT=/root/miniforge3\n",
      "CONDA_PREFIX=/root/miniforge3/envs/llm_sentiment\n",
      "MAMBA_ROOT_PREFIX=/root/miniforge3\n",
      "NVIDIA_DRIVER_CAPABILITIES=all\n",
      "JPY_SESSION_NAME=/code/notebooks/3_finbert_benchmark.ipynb\n",
      "GSETTINGS_SCHEMA_DIR_CONDA_BACKUP=\n",
      "_=/usr/bin/env\n",
      "HOME=/root\n",
      "MAMBA_NO_BANNER=true\n",
      "FORCE_COLOR=1\n",
      "CONDA_PROMPT_MODIFIER=(llm_sentiment) \n",
      "PYDEVD_USE_FRAME_EVAL=NO\n",
      "CLICOLOR=1\n",
      "CLICOLOR_FORCE=1\n",
      "JPY_PARENT_PID=32\n",
      "PYTHONPATH=/finBERT:/code:\n",
      "TERM=xterm-color\n",
      "_CE_CONDA=\n",
      "GIT_PAGER=cat\n",
      "CONDA_SHLVL=2\n",
      "SHLVL=1\n",
      "PAGER=cat\n",
      "MPLBACKEND=module://matplotlib_inline.backend_inline\n",
      "CONDA_PYTHON_EXE=/root/miniforge3/bin/python\n",
      "LC_CTYPE=C.UTF-8\n",
      "CONDA_DEFAULT_ENV=llm_sentiment\n",
      "PATH=/root/miniforge3/envs/llm_sentiment/bin:/root/miniforge3/condabin:/root/miniforge3/bin:/usr/local/sbin:/usr/local/bin:/usr/sbin:/usr/bin:/sbin:/bin\n",
      "CONDA_PREFIX_1=/root/miniforge3\n",
      "DEBIAN_FRONTEND=noninteractive\n"
     ]
    }
   ],
   "source": [
    "! git clone https://github.com/ProsusAI/finBERT.git /finBERT\n",
    "! env PYTHONPATH=/finBERT:$PYTHONPATH"
   ]
  },
  {
   "cell_type": "markdown",
   "id": "44127d68-4520-4c8f-9e21-033959a21787",
   "metadata": {},
   "source": [
    "# Download finBERT model"
   ]
  },
  {
   "cell_type": "code",
   "execution_count": 2,
   "id": "050d701c-adcd-4852-9fab-52b34e7ac342",
   "metadata": {},
   "outputs": [
    {
     "name": "stdout",
     "output_type": "stream",
     "text": [
      "Git LFS initialized.\n",
      "fatal: destination path '/code/models/ProsusAI_finbert' already exists and is not an empty directory.\n"
     ]
    }
   ],
   "source": [
    "! git lfs install\n",
    "! git clone https://huggingface.co/ProsusAI/finbert /code/models/ProsusAI_finbert"
   ]
  },
  {
   "cell_type": "markdown",
   "id": "bfd2305b-80d9-4091-ba69-cbca133b8255",
   "metadata": {},
   "source": [
    "# Import"
   ]
  },
  {
   "cell_type": "code",
   "execution_count": 21,
   "id": "531d6c02-fd8d-4841-a41d-d395fd8dbd0c",
   "metadata": {},
   "outputs": [
    {
     "name": "stderr",
     "output_type": "stream",
     "text": [
      "[nltk_data] Downloading package punkt to /root/nltk_data...\n",
      "[nltk_data]   Package punkt is already up-to-date!\n"
     ]
    },
    {
     "data": {
      "text/plain": [
       "True"
      ]
     },
     "execution_count": 21,
     "metadata": {},
     "output_type": "execute_result"
    }
   ],
   "source": [
    "from transformers import AutoModelForSequenceClassification\n",
    "import argparse\n",
    "import os\n",
    "import sys\n",
    "import pandas as pd\n",
    "import nltk\n",
    "from tqdm import tqdm\n",
    "\n",
    "# turn off logging and futurewarnings\n",
    "import logging \n",
    "logging.disable(logging.CRITICAL)\n",
    "import warnings\n",
    "warnings.simplefilter(action='ignore', category=FutureWarning)\n",
    "\n",
    "sys.path.insert(0,'/finBERT')\n",
    "from finbert.finbert import predict\n",
    "\n",
    "nltk.download('punkt')"
   ]
  },
  {
   "cell_type": "markdown",
   "id": "4a3e8682-db5e-40f3-b546-40dc0f12fa5d",
   "metadata": {},
   "source": [
    "# Download data"
   ]
  },
  {
   "cell_type": "code",
   "execution_count": 4,
   "id": "4c712cd8-ec24-43fe-9891-1f562f63a40a",
   "metadata": {},
   "outputs": [
    {
     "data": {
      "text/html": [
       "<div>\n",
       "<style scoped>\n",
       "    .dataframe tbody tr th:only-of-type {\n",
       "        vertical-align: middle;\n",
       "    }\n",
       "\n",
       "    .dataframe tbody tr th {\n",
       "        vertical-align: top;\n",
       "    }\n",
       "\n",
       "    .dataframe thead th {\n",
       "        text-align: right;\n",
       "    }\n",
       "</style>\n",
       "<table border=\"1\" class=\"dataframe\">\n",
       "  <thead>\n",
       "    <tr style=\"text-align: right;\">\n",
       "      <th></th>\n",
       "      <th>Date</th>\n",
       "      <th>Article_title</th>\n",
       "      <th>Stock_symbol</th>\n",
       "      <th>Url</th>\n",
       "      <th>Publisher</th>\n",
       "      <th>Author</th>\n",
       "      <th>Article</th>\n",
       "      <th>Lsa_summary</th>\n",
       "      <th>Luhn_summary</th>\n",
       "      <th>Textrank_summary</th>\n",
       "      <th>Lexrank_summary</th>\n",
       "    </tr>\n",
       "  </thead>\n",
       "  <tbody>\n",
       "    <tr>\n",
       "      <th>0</th>\n",
       "      <td>2023-12-16 21:00:00+00:00</td>\n",
       "      <td>Rolls-Royce can grow market share and improve ...</td>\n",
       "      <td>GE</td>\n",
       "      <td>https://www.nasdaq.com/articles/rolls-royce-ca...</td>\n",
       "      <td>NaN</td>\n",
       "      <td>NaN</td>\n",
       "      <td>By Paul Sandle, Sarah Young and Tim Hepher\\nLO...</td>\n",
       "      <td>But his challenge is to convince airlines afte...</td>\n",
       "      <td>Long-standing customer Thai Airways is finalis...</td>\n",
       "      <td>Based on underlying aircraft deliveries and ex...</td>\n",
       "      <td>Our engine will be very competitive to GE's en...</td>\n",
       "    </tr>\n",
       "    <tr>\n",
       "      <th>1</th>\n",
       "      <td>2023-12-16 00:00:00+00:00</td>\n",
       "      <td>General Electric's (GE) Unit Wins Wind Turbine...</td>\n",
       "      <td>GE</td>\n",
       "      <td>https://www.nasdaq.com/articles/general-electr...</td>\n",
       "      <td>NaN</td>\n",
       "      <td>NaN</td>\n",
       "      <td>General Electric Company’s GE unit, GE Vernova...</td>\n",
       "      <td>Per the deal, GE will supply approximately 693...</td>\n",
       "      <td>Image Source: Zacks Investment Research Zacks ...</td>\n",
       "      <td>General Electric Company’s GE unit, GE Vernova...</td>\n",
       "      <td>General Electric Company’s GE unit, GE Vernova...</td>\n",
       "    </tr>\n",
       "    <tr>\n",
       "      <th>2</th>\n",
       "      <td>2023-12-16 00:00:00+00:00</td>\n",
       "      <td>FOCUS-North American aviation companies get la...</td>\n",
       "      <td>GE</td>\n",
       "      <td>https://www.nasdaq.com/articles/focus-north-am...</td>\n",
       "      <td>NaN</td>\n",
       "      <td>NaN</td>\n",
       "      <td>By Allison Lampert\\nMONTREAL, Dec 19 (Reuters)...</td>\n",
       "      <td>Business jet maker Bombardier BBDb.TO, which h...</td>\n",
       "      <td>Business jet maker Bombardier BBDb.TO, which h...</td>\n",
       "      <td>As clients like engine maker General Electric ...</td>\n",
       "      <td>As clients like engine maker General Electric ...</td>\n",
       "    </tr>\n",
       "    <tr>\n",
       "      <th>3</th>\n",
       "      <td>2023-12-16 00:00:00+00:00</td>\n",
       "      <td>Airbus on course for record jetliner orders in...</td>\n",
       "      <td>GE</td>\n",
       "      <td>https://www.nasdaq.com/articles/airbus-on-cour...</td>\n",
       "      <td>NaN</td>\n",
       "      <td>NaN</td>\n",
       "      <td>By Tim Hepher\\nPARIS, Dec 19 (Reuters) - Airbu...</td>\n",
       "      <td>Airlines are scrambling to order new planes to...</td>\n",
       "      <td>Despite the positive end-year note, Airbus is ...</td>\n",
       "      <td>Despite the positive end-year note, Airbus is ...</td>\n",
       "      <td>With just over 10 days to go, the total has re...</td>\n",
       "    </tr>\n",
       "    <tr>\n",
       "      <th>4</th>\n",
       "      <td>2023-12-15 00:00:00+00:00</td>\n",
       "      <td>Validea Detailed Fundamental Analysis - GE</td>\n",
       "      <td>GE</td>\n",
       "      <td>https://www.nasdaq.com/articles/validea-detail...</td>\n",
       "      <td>NaN</td>\n",
       "      <td>NaN</td>\n",
       "      <td>Below is Validea's guru fundamental report for...</td>\n",
       "      <td>Below is Validea's guru fundamental report for...</td>\n",
       "      <td>Detailed Analysis of GENERAL ELECTRIC CO GE Gu...</td>\n",
       "      <td>Of the 22 guru strategies we follow, GE rates ...</td>\n",
       "      <td>Of the 22 guru strategies we follow, GE rates ...</td>\n",
       "    </tr>\n",
       "  </tbody>\n",
       "</table>\n",
       "</div>"
      ],
      "text/plain": [
       "                        Date  \\\n",
       "0  2023-12-16 21:00:00+00:00   \n",
       "1  2023-12-16 00:00:00+00:00   \n",
       "2  2023-12-16 00:00:00+00:00   \n",
       "3  2023-12-16 00:00:00+00:00   \n",
       "4  2023-12-15 00:00:00+00:00   \n",
       "\n",
       "                                       Article_title Stock_symbol  \\\n",
       "0  Rolls-Royce can grow market share and improve ...           GE   \n",
       "1  General Electric's (GE) Unit Wins Wind Turbine...           GE   \n",
       "2  FOCUS-North American aviation companies get la...           GE   \n",
       "3  Airbus on course for record jetliner orders in...           GE   \n",
       "4         Validea Detailed Fundamental Analysis - GE           GE   \n",
       "\n",
       "                                                 Url  Publisher  Author  \\\n",
       "0  https://www.nasdaq.com/articles/rolls-royce-ca...        NaN     NaN   \n",
       "1  https://www.nasdaq.com/articles/general-electr...        NaN     NaN   \n",
       "2  https://www.nasdaq.com/articles/focus-north-am...        NaN     NaN   \n",
       "3  https://www.nasdaq.com/articles/airbus-on-cour...        NaN     NaN   \n",
       "4  https://www.nasdaq.com/articles/validea-detail...        NaN     NaN   \n",
       "\n",
       "                                             Article  \\\n",
       "0  By Paul Sandle, Sarah Young and Tim Hepher\\nLO...   \n",
       "1  General Electric Company’s GE unit, GE Vernova...   \n",
       "2  By Allison Lampert\\nMONTREAL, Dec 19 (Reuters)...   \n",
       "3  By Tim Hepher\\nPARIS, Dec 19 (Reuters) - Airbu...   \n",
       "4  Below is Validea's guru fundamental report for...   \n",
       "\n",
       "                                         Lsa_summary  \\\n",
       "0  But his challenge is to convince airlines afte...   \n",
       "1  Per the deal, GE will supply approximately 693...   \n",
       "2  Business jet maker Bombardier BBDb.TO, which h...   \n",
       "3  Airlines are scrambling to order new planes to...   \n",
       "4  Below is Validea's guru fundamental report for...   \n",
       "\n",
       "                                        Luhn_summary  \\\n",
       "0  Long-standing customer Thai Airways is finalis...   \n",
       "1  Image Source: Zacks Investment Research Zacks ...   \n",
       "2  Business jet maker Bombardier BBDb.TO, which h...   \n",
       "3  Despite the positive end-year note, Airbus is ...   \n",
       "4  Detailed Analysis of GENERAL ELECTRIC CO GE Gu...   \n",
       "\n",
       "                                    Textrank_summary  \\\n",
       "0  Based on underlying aircraft deliveries and ex...   \n",
       "1  General Electric Company’s GE unit, GE Vernova...   \n",
       "2  As clients like engine maker General Electric ...   \n",
       "3  Despite the positive end-year note, Airbus is ...   \n",
       "4  Of the 22 guru strategies we follow, GE rates ...   \n",
       "\n",
       "                                     Lexrank_summary  \n",
       "0  Our engine will be very competitive to GE's en...  \n",
       "1  General Electric Company’s GE unit, GE Vernova...  \n",
       "2  As clients like engine maker General Electric ...  \n",
       "3  With just over 10 days to go, the total has re...  \n",
       "4  Of the 22 guru strategies we follow, GE rates ...  "
      ]
     },
     "execution_count": 4,
     "metadata": {},
     "output_type": "execute_result"
    }
   ],
   "source": [
    "ext_df = pd.read_csv('/code/data/extracted_data.csv')\n",
    "ext_df.head()"
   ]
  },
  {
   "cell_type": "markdown",
   "id": "9db247fb-a076-40c3-ba05-4d5ea758bf6a",
   "metadata": {},
   "source": [
    "# Load the model"
   ]
  },
  {
   "cell_type": "code",
   "execution_count": 5,
   "id": "f2e32987-33b4-4229-a842-e8a1c67c46bd",
   "metadata": {},
   "outputs": [],
   "source": [
    "model = AutoModelForSequenceClassification.from_pretrained('/code/models/ProsusAI_finbert', num_labels=3, cache_dir=None, device_map = 'cuda:1')"
   ]
  },
  {
   "cell_type": "markdown",
   "id": "8ed31439-c8ca-46b9-bfec-eb8cedf539b2",
   "metadata": {},
   "source": [
    "# Predict sentiment of article headlines\n",
    "\n",
    "Run through the article headlines and predict the sentiments. For each row we save the date, ticker, url and the predicted sentiment to `/code/data/{filename}.csv` where the filename cohtains the ticker and the model used for the prediction."
   ]
  },
  {
   "cell_type": "code",
   "execution_count": 23,
   "id": "175b4d2d-6998-48da-b135-19dee1ed8845",
   "metadata": {},
   "outputs": [
    {
     "name": "stderr",
     "output_type": "stream",
     "text": [
      "100%|██████████| 8680/8680 [01:45<00:00, 82.22it/s]\n"
     ]
    }
   ],
   "source": [
    "goal_ticker = 'GE'\n",
    "model_name = 'ProsusAI_finBERT'\n",
    "filename = f'{goal_ticker}_{model_name}'\n",
    "\n",
    "sentiments = []\n",
    "get_token = lambda x: len(x.split(' '))/0.7\n",
    "\n",
    "for idx, row in tqdm(ext_df.iterrows(), total=len(ext_df)):\n",
    "    # remove sentence ending symbols, as finBERT runs on sentences and split texts to sentences to predict each\n",
    "    headline = row['Article_title'].replace('.', '').replace('!', '').replace('?', '')\n",
    "    \n",
    "    sentiment = float((predict(headline, model, write_to_csv=False, use_gpu=True, batch_size=5)['sentiment_score']+1)*2.5)\n",
    "    \n",
    "    sentiments.append({'Stock_symbol': goal_ticker, 'Date': row.Date, 'Url': row.Url, 'Sentiment': sentiment})\n",
    "    \n",
    "    if (idx % 500) == 0:\n",
    "        pd.DataFrame(sentiments).to_csv(f'/code/data/{filename}.csv', index=False)\n",
    "    \n",
    "pd.DataFrame(sentiments).to_csv(f'/code/data/{filename}.csv', index=False)"
   ]
  }
 ],
 "metadata": {
  "kernelspec": {
   "display_name": "Python 3 (ipykernel)",
   "language": "python",
   "name": "python3"
  },
  "language_info": {
   "codemirror_mode": {
    "name": "ipython",
    "version": 3
   },
   "file_extension": ".py",
   "mimetype": "text/x-python",
   "name": "python",
   "nbconvert_exporter": "python",
   "pygments_lexer": "ipython3",
   "version": "3.11.7"
  }
 },
 "nbformat": 4,
 "nbformat_minor": 5
}
