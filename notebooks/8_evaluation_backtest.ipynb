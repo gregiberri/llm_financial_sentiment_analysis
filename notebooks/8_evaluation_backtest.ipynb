{
 "cells": [
  {
   "cell_type": "code",
   "execution_count": 11,
   "metadata": {},
   "outputs": [],
   "source": [
    "import numpy as np\n",
    "import pandas as pd\n",
    "from sklearn.metrics import mean_squared_error\n",
    "from sklearn.metrics import mean_absolute_error\n"
   ]
  },
  {
   "cell_type": "code",
   "execution_count": 2,
   "metadata": {},
   "outputs": [],
   "source": [
    "pred_gpt = pd.read_csv(f'../generated/GPT3.5-headlines.csv', index_col=0) \n",
    "pred_non = pd.read_csv(f'../generated/Without-sentiment.csv', index_col=0)\n",
    "pred_fb = pd.read_csv(f'../generated/finBERT-headlines.csv', index_col=0)\n",
    "pred_llm = pd.read_csv(f'../generated/pred_llama3_70b.csv', index_col=0) "
   ]
  },
  {
   "cell_type": "code",
   "execution_count": 12,
   "metadata": {},
   "outputs": [
    {
     "name": "stdout",
     "output_type": "stream",
     "text": [
      "0.0020872850033802\n",
      "0.037797989206230675\n"
     ]
    }
   ],
   "source": [
    "mse = mean_squared_error(y_true = pred_llm['Actual'], y_pred = pred_llm['Predicted'])\n",
    "mae = mean_absolute_error(y_true = pred_llm['Actual'], y_pred = pred_llm['Predicted'])\n",
    "print(mse**1/2)\n",
    "print(mae)"
   ]
  },
  {
   "cell_type": "code",
   "execution_count": 13,
   "metadata": {},
   "outputs": [
    {
     "name": "stdout",
     "output_type": "stream",
     "text": [
      "0.0020940943753183622\n",
      "0.037719612199673826\n"
     ]
    }
   ],
   "source": [
    "mse = mean_squared_error(y_true = pred_non['Actual'], y_pred = pred_non['Predicted'])\n",
    "mae = mean_absolute_error(y_true = pred_non['Actual'], y_pred = pred_non['Predicted'])\n",
    "print(mse**1/2)\n",
    "print(mae)"
   ]
  },
  {
   "cell_type": "code",
   "execution_count": 14,
   "metadata": {},
   "outputs": [
    {
     "name": "stdout",
     "output_type": "stream",
     "text": [
      "0.00213337811210026\n",
      "0.03795255508516404\n"
     ]
    }
   ],
   "source": [
    "mse = mean_squared_error(y_true = pred_fb['Actual'], y_pred = pred_fb['Predicted'])\n",
    "mae = mean_absolute_error(y_true = pred_fb['Actual'], y_pred = pred_fb['Predicted'])\n",
    "print(mse**1/2)\n",
    "print(mae)"
   ]
  },
  {
   "cell_type": "code",
   "execution_count": 15,
   "metadata": {},
   "outputs": [
    {
     "name": "stdout",
     "output_type": "stream",
     "text": [
      "0.0021036465066238946\n",
      "0.037764451534859765\n"
     ]
    }
   ],
   "source": [
    "mse = mean_squared_error(y_true = pred_gpt['Actual'], y_pred = pred_gpt['Predicted'])\n",
    "mae = mean_absolute_error(y_true = pred_gpt['Actual'], y_pred = pred_gpt['Predicted'])\n",
    "print(mse**1/2)\n",
    "print(mae)"
   ]
  },
  {
   "cell_type": "code",
   "execution_count": null,
   "metadata": {},
   "outputs": [],
   "source": []
  }
 ],
 "metadata": {
  "kernelspec": {
   "display_name": "trnshgg",
   "language": "python",
   "name": "python3"
  },
  "language_info": {
   "codemirror_mode": {
    "name": "ipython",
    "version": 3
   },
   "file_extension": ".py",
   "mimetype": "text/x-python",
   "name": "python",
   "nbconvert_exporter": "python",
   "pygments_lexer": "ipython3",
   "version": "3.9.18"
  }
 },
 "nbformat": 4,
 "nbformat_minor": 2
}
